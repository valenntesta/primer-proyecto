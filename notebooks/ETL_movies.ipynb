{
 "cells": [
  {
   "cell_type": "markdown",
   "metadata": {},
   "source": [
    "aqui especificar el ETL y hago los requerimientos que me piden en el readme del github... acomodar introduccion"
   ]
  },
  {
   "cell_type": "code",
   "execution_count": 112,
   "metadata": {},
   "outputs": [],
   "source": [
    "# Importar las bibliotecas necesarias\n",
    "import numpy as np\n",
    "import pandas as pd\n",
    "import json\n",
    "import ast"
   ]
  },
  {
   "cell_type": "code",
   "execution_count": 113,
   "metadata": {},
   "outputs": [
    {
     "name": "stderr",
     "output_type": "stream",
     "text": [
      "C:\\Users\\evely\\AppData\\Local\\Temp\\ipykernel_16400\\3148652920.py:2: DtypeWarning: Columns (10) have mixed types. Specify dtype option on import or set low_memory=False.\n",
      "  df_movies = pd.read_csv('Dataset/movies_dataset.csv', encoding='utf-8')\n"
     ]
    }
   ],
   "source": [
    "#Extraer el dataset\n",
    "df_movies = pd.read_csv('Dataset/movies_dataset.csv', encoding='utf-8')"
   ]
  },
  {
   "cell_type": "code",
   "execution_count": 114,
   "metadata": {},
   "outputs": [
    {
     "name": "stdout",
     "output_type": "stream",
     "text": [
      "(45466, 24)\n"
     ]
    },
    {
     "data": {
      "text/html": [
       "<div>\n",
       "<style scoped>\n",
       "    .dataframe tbody tr th:only-of-type {\n",
       "        vertical-align: middle;\n",
       "    }\n",
       "\n",
       "    .dataframe tbody tr th {\n",
       "        vertical-align: top;\n",
       "    }\n",
       "\n",
       "    .dataframe thead th {\n",
       "        text-align: right;\n",
       "    }\n",
       "</style>\n",
       "<table border=\"1\" class=\"dataframe\">\n",
       "  <thead>\n",
       "    <tr style=\"text-align: right;\">\n",
       "      <th></th>\n",
       "      <th>adult</th>\n",
       "      <th>belongs_to_collection</th>\n",
       "      <th>budget</th>\n",
       "      <th>genres</th>\n",
       "      <th>homepage</th>\n",
       "      <th>id</th>\n",
       "      <th>imdb_id</th>\n",
       "      <th>original_language</th>\n",
       "      <th>original_title</th>\n",
       "      <th>overview</th>\n",
       "      <th>...</th>\n",
       "      <th>release_date</th>\n",
       "      <th>revenue</th>\n",
       "      <th>runtime</th>\n",
       "      <th>spoken_languages</th>\n",
       "      <th>status</th>\n",
       "      <th>tagline</th>\n",
       "      <th>title</th>\n",
       "      <th>video</th>\n",
       "      <th>vote_average</th>\n",
       "      <th>vote_count</th>\n",
       "    </tr>\n",
       "  </thead>\n",
       "  <tbody>\n",
       "    <tr>\n",
       "      <th>0</th>\n",
       "      <td>False</td>\n",
       "      <td>{'id': 10194, 'name': 'Toy Story Collection', ...</td>\n",
       "      <td>30000000</td>\n",
       "      <td>[{'id': 16, 'name': 'Animation'}, {'id': 35, '...</td>\n",
       "      <td>http://toystory.disney.com/toy-story</td>\n",
       "      <td>862</td>\n",
       "      <td>tt0114709</td>\n",
       "      <td>en</td>\n",
       "      <td>Toy Story</td>\n",
       "      <td>Led by Woody, Andy's toys live happily in his ...</td>\n",
       "      <td>...</td>\n",
       "      <td>1995-10-30</td>\n",
       "      <td>373554033.0</td>\n",
       "      <td>81.0</td>\n",
       "      <td>[{'iso_639_1': 'en', 'name': 'English'}]</td>\n",
       "      <td>Released</td>\n",
       "      <td>NaN</td>\n",
       "      <td>Toy Story</td>\n",
       "      <td>False</td>\n",
       "      <td>7.7</td>\n",
       "      <td>5415.0</td>\n",
       "    </tr>\n",
       "  </tbody>\n",
       "</table>\n",
       "<p>1 rows × 24 columns</p>\n",
       "</div>"
      ],
      "text/plain": [
       "   adult                              belongs_to_collection    budget  \\\n",
       "0  False  {'id': 10194, 'name': 'Toy Story Collection', ...  30000000   \n",
       "\n",
       "                                              genres  \\\n",
       "0  [{'id': 16, 'name': 'Animation'}, {'id': 35, '...   \n",
       "\n",
       "                               homepage   id    imdb_id original_language  \\\n",
       "0  http://toystory.disney.com/toy-story  862  tt0114709                en   \n",
       "\n",
       "  original_title                                           overview  ...  \\\n",
       "0      Toy Story  Led by Woody, Andy's toys live happily in his ...  ...   \n",
       "\n",
       "  release_date      revenue runtime                          spoken_languages  \\\n",
       "0   1995-10-30  373554033.0    81.0  [{'iso_639_1': 'en', 'name': 'English'}]   \n",
       "\n",
       "     status  tagline      title  video vote_average vote_count  \n",
       "0  Released      NaN  Toy Story  False          7.7     5415.0  \n",
       "\n",
       "[1 rows x 24 columns]"
      ]
     },
     "execution_count": 114,
     "metadata": {},
     "output_type": "execute_result"
    }
   ],
   "source": [
    "\n",
    "print(df_movies.shape)\n",
    "df_movies.head(1)"
   ]
  },
  {
   "cell_type": "code",
   "execution_count": 115,
   "metadata": {},
   "outputs": [],
   "source": [
    "\n",
    "# Crear una copia del DataFrame original para no modificarlo directamente\n",
    "df = df_movies.copy()\n"
   ]
  },
  {
   "cell_type": "code",
   "execution_count": 116,
   "metadata": {},
   "outputs": [
    {
     "name": "stdout",
     "output_type": "stream",
     "text": [
      "0        {'id': 10194, 'name': 'Toy Story Collection', ...\n",
      "1                                                      NaN\n",
      "2        {'id': 119050, 'name': 'Grumpy Old Men Collect...\n",
      "3                                                      NaN\n",
      "4        {'id': 96871, 'name': 'Father of the Bride Col...\n",
      "                               ...                        \n",
      "45461                                                  NaN\n",
      "45462                                                  NaN\n",
      "45463                                                  NaN\n",
      "45464                                                  NaN\n",
      "45465                                                  NaN\n",
      "Name: belongs_to_collection, Length: 45466, dtype: object\n"
     ]
    }
   ],
   "source": [
    "# Mostrar solo la columna 'belongs_to_collection'\n",
    "print(df['belongs_to_collection'])"
   ]
  },
  {
   "cell_type": "code",
   "execution_count": 117,
   "metadata": {},
   "outputs": [
    {
     "name": "stdout",
     "output_type": "stream",
     "text": [
      "   adult    budget                                             genres  \\\n",
      "0  False  30000000  [{'id': 16, 'name': 'Animation'}, {'id': 35, '...   \n",
      "1  False  65000000  [{'id': 12, 'name': 'Adventure'}, {'id': 14, '...   \n",
      "2  False         0  [{'id': 10749, 'name': 'Romance'}, {'id': 35, ...   \n",
      "3  False  16000000  [{'id': 35, 'name': 'Comedy'}, {'id': 18, 'nam...   \n",
      "4  False         0                     [{'id': 35, 'name': 'Comedy'}]   \n",
      "\n",
      "                               homepage     id    imdb_id original_language  \\\n",
      "0  http://toystory.disney.com/toy-story    862  tt0114709                en   \n",
      "1                                   NaN   8844  tt0113497                en   \n",
      "2                                   NaN  15602  tt0113228                en   \n",
      "3                                   NaN  31357  tt0114885                en   \n",
      "4                                   NaN  11862  tt0113041                en   \n",
      "\n",
      "                original_title  \\\n",
      "0                    Toy Story   \n",
      "1                      Jumanji   \n",
      "2             Grumpier Old Men   \n",
      "3            Waiting to Exhale   \n",
      "4  Father of the Bride Part II   \n",
      "\n",
      "                                            overview popularity  ...  \\\n",
      "0  Led by Woody, Andy's toys live happily in his ...  21.946943  ...   \n",
      "1  When siblings Judy and Peter discover an encha...  17.015539  ...   \n",
      "2  A family wedding reignites the ancient feud be...    11.7129  ...   \n",
      "3  Cheated on, mistreated and stepped on, the wom...   3.859495  ...   \n",
      "4  Just when George Banks has recovered from his ...   8.387519  ...   \n",
      "\n",
      "                                             tagline  \\\n",
      "0                                                NaN   \n",
      "1          Roll the dice and unleash the excitement!   \n",
      "2  Still Yelling. Still Fighting. Still Ready for...   \n",
      "3  Friends are the people who let you be yourself...   \n",
      "4  Just When His World Is Back To Normal... He's ...   \n",
      "\n",
      "                         title  video vote_average  vote_count  idcollection  \\\n",
      "0                    Toy Story  False          7.7      5415.0       10194.0   \n",
      "1                      Jumanji  False          6.9      2413.0           NaN   \n",
      "2             Grumpier Old Men  False          6.5        92.0      119050.0   \n",
      "3            Waiting to Exhale  False          6.1        34.0           NaN   \n",
      "4  Father of the Bride Part II  False          5.7       173.0       96871.0   \n",
      "\n",
      "                             name                       poster_path  \\\n",
      "0            Toy Story Collection  /7G9915LfUQ2lVfwMEEhDsn3kT4B.jpg   \n",
      "1                             NaN                               NaN   \n",
      "2       Grumpy Old Men Collection  /nLvUdqgPgm3F85NMCii9gVFUcet.jpg   \n",
      "3                             NaN                               NaN   \n",
      "4  Father of the Bride Collection  /nts4iOmNnq7GNicycMJ9pSAn204.jpg   \n",
      "\n",
      "                      backdrop_path   0  \n",
      "0  /9FBwqcd9IRruEDUrTdcaafOMKUq.jpg NaN  \n",
      "1                               NaN NaN  \n",
      "2  /hypTnLot2z8wpFS7qwsQHW1uV8u.jpg NaN  \n",
      "3                               NaN NaN  \n",
      "4  /7qwE57OVZmMJChBpLEbJEmzUydk.jpg NaN  \n",
      "\n",
      "[5 rows x 28 columns]\n"
     ]
    }
   ],
   "source": [
    "\n",
    "# Función para desanidar los diccionarios en la columna \"belongs_to_collection\"\n",
    "def desanidar_diccionario(value):\n",
    "    if pd.isnull(value):\n",
    "        return {}\n",
    "    try:\n",
    "        return ast.literal_eval(value)\n",
    "    except (ValueError, SyntaxError):\n",
    "        return {}\n",
    "\n",
    "# Desanidar y expandir la columna en un nuevo DataFrame\n",
    "expanded_col = df['belongs_to_collection'].apply(desanidar_diccionario).apply(pd.Series)\n",
    "\n",
    "# Renombrar la columna 'id' a 'idcollection' si existe\n",
    "if 'id' in expanded_col.columns:\n",
    "    expanded_col.rename(columns={'id': 'idcollection'}, inplace=True)\n",
    "\n",
    "# Eliminar columnas con todos los valores NaN\n",
    "expanded_col = expanded_col.dropna(axis=1, how='all')\n",
    "\n",
    "# Concatenar el DataFrame original con el DataFrame expandido\n",
    "movies = pd.concat([df.drop(columns=['belongs_to_collection']), expanded_col], axis=1)\n",
    "\n",
    "# Ver los primeros registros\n",
    "print(movies.head())\n"
   ]
  },
  {
   "cell_type": "code",
   "execution_count": 118,
   "metadata": {},
   "outputs": [
    {
     "data": {
      "text/html": [
       "<div>\n",
       "<style scoped>\n",
       "    .dataframe tbody tr th:only-of-type {\n",
       "        vertical-align: middle;\n",
       "    }\n",
       "\n",
       "    .dataframe tbody tr th {\n",
       "        vertical-align: top;\n",
       "    }\n",
       "\n",
       "    .dataframe thead th {\n",
       "        text-align: right;\n",
       "    }\n",
       "</style>\n",
       "<table border=\"1\" class=\"dataframe\">\n",
       "  <thead>\n",
       "    <tr style=\"text-align: right;\">\n",
       "      <th></th>\n",
       "      <th>adult</th>\n",
       "      <th>budget</th>\n",
       "      <th>genres</th>\n",
       "      <th>homepage</th>\n",
       "      <th>id</th>\n",
       "      <th>imdb_id</th>\n",
       "      <th>original_language</th>\n",
       "      <th>original_title</th>\n",
       "      <th>overview</th>\n",
       "      <th>popularity</th>\n",
       "      <th>...</th>\n",
       "      <th>tagline</th>\n",
       "      <th>title</th>\n",
       "      <th>video</th>\n",
       "      <th>vote_average</th>\n",
       "      <th>vote_count</th>\n",
       "      <th>idcollection</th>\n",
       "      <th>name</th>\n",
       "      <th>poster_path</th>\n",
       "      <th>backdrop_path</th>\n",
       "      <th>0</th>\n",
       "    </tr>\n",
       "  </thead>\n",
       "  <tbody>\n",
       "    <tr>\n",
       "      <th>0</th>\n",
       "      <td>False</td>\n",
       "      <td>30000000</td>\n",
       "      <td>[{'id': 16, 'name': 'Animation'}, {'id': 35, '...</td>\n",
       "      <td>http://toystory.disney.com/toy-story</td>\n",
       "      <td>862</td>\n",
       "      <td>tt0114709</td>\n",
       "      <td>en</td>\n",
       "      <td>Toy Story</td>\n",
       "      <td>Led by Woody, Andy's toys live happily in his ...</td>\n",
       "      <td>21.946943</td>\n",
       "      <td>...</td>\n",
       "      <td>NaN</td>\n",
       "      <td>Toy Story</td>\n",
       "      <td>False</td>\n",
       "      <td>7.7</td>\n",
       "      <td>5415.0</td>\n",
       "      <td>10194.0</td>\n",
       "      <td>Toy Story Collection</td>\n",
       "      <td>/7G9915LfUQ2lVfwMEEhDsn3kT4B.jpg</td>\n",
       "      <td>/9FBwqcd9IRruEDUrTdcaafOMKUq.jpg</td>\n",
       "      <td>NaN</td>\n",
       "    </tr>\n",
       "  </tbody>\n",
       "</table>\n",
       "<p>1 rows × 28 columns</p>\n",
       "</div>"
      ],
      "text/plain": [
       "   adult    budget                                             genres  \\\n",
       "0  False  30000000  [{'id': 16, 'name': 'Animation'}, {'id': 35, '...   \n",
       "\n",
       "                               homepage   id    imdb_id original_language  \\\n",
       "0  http://toystory.disney.com/toy-story  862  tt0114709                en   \n",
       "\n",
       "  original_title                                           overview  \\\n",
       "0      Toy Story  Led by Woody, Andy's toys live happily in his ...   \n",
       "\n",
       "  popularity  ... tagline      title  video vote_average  vote_count  \\\n",
       "0  21.946943  ...     NaN  Toy Story  False          7.7      5415.0   \n",
       "\n",
       "   idcollection                  name                       poster_path  \\\n",
       "0       10194.0  Toy Story Collection  /7G9915LfUQ2lVfwMEEhDsn3kT4B.jpg   \n",
       "\n",
       "                      backdrop_path   0  \n",
       "0  /9FBwqcd9IRruEDUrTdcaafOMKUq.jpg NaN  \n",
       "\n",
       "[1 rows x 28 columns]"
      ]
     },
     "execution_count": 118,
     "metadata": {},
     "output_type": "execute_result"
    }
   ],
   "source": [
    "movies.head(1)"
   ]
  },
  {
   "cell_type": "markdown",
   "metadata": {},
   "source": [
    "Ahora se procede a desanidar las demas columnas "
   ]
  },
  {
   "cell_type": "code",
   "execution_count": 119,
   "metadata": {},
   "outputs": [],
   "source": [
    "# Desanidar columnas del dataframe \n",
    "\n",
    "# Lista de columnas anidadas a desanidar\n",
    "columnas_anidadas = ['genres', 'production_companies', 'production_countries', 'spoken_languages']\n",
    "\n",
    "# Función para desanidar columnas que contienen listas de diccionarios\n",
    "def desanidar_columna(df, columna):\n",
    "    # Convertir cadenas de texto en listas/diccionarios si es necesario\n",
    "    df[columna] = df[columna].apply(lambda x: ast.literal_eval(x) if isinstance(x, str) else x)\n",
    "    \n",
    "    # Desanidar según el tipo de datos en la columna\n",
    "    if df[columna].apply(lambda x: isinstance(x, list)).any():\n",
    "        # Para columnas con listas de diccionarios\n",
    "        desanidado = pd.json_normalize(df[columna].explode().dropna()).reset_index(drop=True)\n",
    "    else:\n",
    "        # Para columnas con diccionarios simples\n",
    "        desanidado = pd.json_normalize(df[columna].dropna()).reset_index(drop=True)\n",
    "    \n",
    "    # Renombrar las columnas desanidadas\n",
    "    desanidado.columns = [f\"{columna}_{subcol}\" for subcol in desanidado.columns]\n",
    "    \n",
    "    # Unir las columnas desanidadas al DataFrame original\n",
    "    df = df.drop(columns=[columna]).join(desanidado)\n",
    "    return df\n",
    "\n",
    "# Desanidar columnas que contienen listas de diccionarios\n",
    "for columna in ['genres', 'production_companies', 'production_countries', 'spoken_languages']:\n",
    "    movies = desanidar_columna(movies, columna)\n"
   ]
  },
  {
   "cell_type": "code",
   "execution_count": 120,
   "metadata": {},
   "outputs": [
    {
     "name": "stdout",
     "output_type": "stream",
     "text": [
      "(45466, 32)\n"
     ]
    },
    {
     "data": {
      "text/html": [
       "<div>\n",
       "<style scoped>\n",
       "    .dataframe tbody tr th:only-of-type {\n",
       "        vertical-align: middle;\n",
       "    }\n",
       "\n",
       "    .dataframe tbody tr th {\n",
       "        vertical-align: top;\n",
       "    }\n",
       "\n",
       "    .dataframe thead th {\n",
       "        text-align: right;\n",
       "    }\n",
       "</style>\n",
       "<table border=\"1\" class=\"dataframe\">\n",
       "  <thead>\n",
       "    <tr style=\"text-align: right;\">\n",
       "      <th></th>\n",
       "      <th>adult</th>\n",
       "      <th>budget</th>\n",
       "      <th>homepage</th>\n",
       "      <th>id</th>\n",
       "      <th>imdb_id</th>\n",
       "      <th>original_language</th>\n",
       "      <th>original_title</th>\n",
       "      <th>overview</th>\n",
       "      <th>popularity</th>\n",
       "      <th>poster_path</th>\n",
       "      <th>...</th>\n",
       "      <th>backdrop_path</th>\n",
       "      <th>0</th>\n",
       "      <th>genres_id</th>\n",
       "      <th>genres_name</th>\n",
       "      <th>production_companies_name</th>\n",
       "      <th>production_companies_id</th>\n",
       "      <th>production_countries_iso_3166_1</th>\n",
       "      <th>production_countries_name</th>\n",
       "      <th>spoken_languages_iso_639_1</th>\n",
       "      <th>spoken_languages_name</th>\n",
       "    </tr>\n",
       "  </thead>\n",
       "  <tbody>\n",
       "    <tr>\n",
       "      <th>0</th>\n",
       "      <td>False</td>\n",
       "      <td>30000000</td>\n",
       "      <td>http://toystory.disney.com/toy-story</td>\n",
       "      <td>862</td>\n",
       "      <td>tt0114709</td>\n",
       "      <td>en</td>\n",
       "      <td>Toy Story</td>\n",
       "      <td>Led by Woody, Andy's toys live happily in his ...</td>\n",
       "      <td>21.946943</td>\n",
       "      <td>/rhIRbceoE9lR4veEXuwCC2wARtG.jpg</td>\n",
       "      <td>...</td>\n",
       "      <td>/9FBwqcd9IRruEDUrTdcaafOMKUq.jpg</td>\n",
       "      <td>NaN</td>\n",
       "      <td>16</td>\n",
       "      <td>Animation</td>\n",
       "      <td>Pixar Animation Studios</td>\n",
       "      <td>3.0</td>\n",
       "      <td>US</td>\n",
       "      <td>United States of America</td>\n",
       "      <td>en</td>\n",
       "      <td>English</td>\n",
       "    </tr>\n",
       "  </tbody>\n",
       "</table>\n",
       "<p>1 rows × 32 columns</p>\n",
       "</div>"
      ],
      "text/plain": [
       "   adult    budget                              homepage   id    imdb_id  \\\n",
       "0  False  30000000  http://toystory.disney.com/toy-story  862  tt0114709   \n",
       "\n",
       "  original_language original_title  \\\n",
       "0                en      Toy Story   \n",
       "\n",
       "                                            overview popularity  \\\n",
       "0  Led by Woody, Andy's toys live happily in his ...  21.946943   \n",
       "\n",
       "                        poster_path  ...                     backdrop_path  \\\n",
       "0  /rhIRbceoE9lR4veEXuwCC2wARtG.jpg  ...  /9FBwqcd9IRruEDUrTdcaafOMKUq.jpg   \n",
       "\n",
       "    0  genres_id genres_name production_companies_name  \\\n",
       "0 NaN         16   Animation   Pixar Animation Studios   \n",
       "\n",
       "  production_companies_id production_countries_iso_3166_1  \\\n",
       "0                     3.0                              US   \n",
       "\n",
       "   production_countries_name  spoken_languages_iso_639_1  \\\n",
       "0   United States of America                          en   \n",
       "\n",
       "   spoken_languages_name  \n",
       "0                English  \n",
       "\n",
       "[1 rows x 32 columns]"
      ]
     },
     "execution_count": 120,
     "metadata": {},
     "output_type": "execute_result"
    }
   ],
   "source": [
    "# verificar columnas desanidadas\n",
    "print(movies.shape)\n",
    "movies.head(1)\n"
   ]
  },
  {
   "cell_type": "code",
   "execution_count": 121,
   "metadata": {},
   "outputs": [
    {
     "name": "stdout",
     "output_type": "stream",
     "text": [
      "Index([                          'adult',                          'budget',\n",
      "                              'homepage',                              'id',\n",
      "                               'imdb_id',               'original_language',\n",
      "                        'original_title',                        'overview',\n",
      "                            'popularity',                     'poster_path',\n",
      "                          'release_date',                         'revenue',\n",
      "                               'runtime',                          'status',\n",
      "                               'tagline',                           'title',\n",
      "                                 'video',                    'vote_average',\n",
      "                            'vote_count',                    'idcollection',\n",
      "                                  'name',                     'poster_path',\n",
      "                         'backdrop_path',                                 0,\n",
      "                             'genres_id',                     'genres_name',\n",
      "             'production_companies_name',         'production_companies_id',\n",
      "       'production_countries_iso_3166_1',       'production_countries_name',\n",
      "            'spoken_languages_iso_639_1',           'spoken_languages_name'],\n",
      "      dtype='object')\n"
     ]
    }
   ],
   "source": [
    "#IMPRIMIR TODAS LAS COLUMNAS\n",
    "nombres_columnas = movies.columns\n",
    "print(nombres_columnas)\n"
   ]
  },
  {
   "cell_type": "markdown",
   "metadata": {},
   "source": [
    "Se deben eliminar columnas de las desanidadas que no se usaran, las solicitadas y otras que no tienen relevancia en el modelado"
   ]
  },
  {
   "cell_type": "code",
   "execution_count": 122,
   "metadata": {},
   "outputs": [],
   "source": [
    "# Eliminar las columnas que no serán utilizadas\n",
    "columns_to_drop = ['video', 'imdb_id', 'adult', 'original_title', 'poster_path', 'homepage', 'backdrop_path', 'genres_id',\n",
    "                   'production_countries_iso_3166_1', 'spoken_languages_iso_639_1','idcollection','production_companies_id',0]\n",
    "movies = movies.drop(columns=columns_to_drop)"
   ]
  },
  {
   "cell_type": "code",
   "execution_count": 123,
   "metadata": {},
   "outputs": [
    {
     "name": "stdout",
     "output_type": "stream",
     "text": [
      "<class 'pandas.core.frame.DataFrame'>\n",
      "RangeIndex: 45466 entries, 0 to 45465\n",
      "Data columns (total 18 columns):\n",
      " #   Column                     Non-Null Count  Dtype  \n",
      "---  ------                     --------------  -----  \n",
      " 0   budget                     45466 non-null  object \n",
      " 1   id                         45466 non-null  object \n",
      " 2   original_language          45455 non-null  object \n",
      " 3   overview                   44512 non-null  object \n",
      " 4   popularity                 45461 non-null  object \n",
      " 5   release_date               45379 non-null  object \n",
      " 6   revenue                    45460 non-null  float64\n",
      " 7   runtime                    45203 non-null  float64\n",
      " 8   status                     45379 non-null  object \n",
      " 9   tagline                    20412 non-null  object \n",
      " 10  title                      45460 non-null  object \n",
      " 11  vote_average               45460 non-null  float64\n",
      " 12  vote_count                 45460 non-null  float64\n",
      " 13  name                       4491 non-null   object \n",
      " 14  genres_name                45466 non-null  object \n",
      " 15  production_companies_name  45465 non-null  object \n",
      " 16  production_countries_name  45463 non-null  object \n",
      " 17  spoken_languages_name      45466 non-null  object \n",
      "dtypes: float64(4), object(14)\n",
      "memory usage: 6.2+ MB\n"
     ]
    }
   ],
   "source": [
    "movies.info()"
   ]
  },
  {
   "cell_type": "code",
   "execution_count": 125,
   "metadata": {},
   "outputs": [
    {
     "data": {
      "text/html": [
       "<div>\n",
       "<style scoped>\n",
       "    .dataframe tbody tr th:only-of-type {\n",
       "        vertical-align: middle;\n",
       "    }\n",
       "\n",
       "    .dataframe tbody tr th {\n",
       "        vertical-align: top;\n",
       "    }\n",
       "\n",
       "    .dataframe thead th {\n",
       "        text-align: right;\n",
       "    }\n",
       "</style>\n",
       "<table border=\"1\" class=\"dataframe\">\n",
       "  <thead>\n",
       "    <tr style=\"text-align: right;\">\n",
       "      <th></th>\n",
       "      <th>budget</th>\n",
       "      <th>idMovies</th>\n",
       "      <th>original_language</th>\n",
       "      <th>overview</th>\n",
       "      <th>popularity</th>\n",
       "      <th>release_date</th>\n",
       "      <th>revenue</th>\n",
       "      <th>runtime</th>\n",
       "      <th>status</th>\n",
       "      <th>tagline</th>\n",
       "      <th>title</th>\n",
       "      <th>vote_average</th>\n",
       "      <th>vote_count</th>\n",
       "      <th>nameColeccion</th>\n",
       "      <th>genres</th>\n",
       "      <th>production_companies</th>\n",
       "      <th>production_countries</th>\n",
       "      <th>spoken_language</th>\n",
       "    </tr>\n",
       "  </thead>\n",
       "  <tbody>\n",
       "    <tr>\n",
       "      <th>0</th>\n",
       "      <td>30000000</td>\n",
       "      <td>862</td>\n",
       "      <td>en</td>\n",
       "      <td>Led by Woody, Andy's toys live happily in his ...</td>\n",
       "      <td>21.946943</td>\n",
       "      <td>1995-10-30</td>\n",
       "      <td>373554033.0</td>\n",
       "      <td>81.0</td>\n",
       "      <td>Released</td>\n",
       "      <td>NaN</td>\n",
       "      <td>Toy Story</td>\n",
       "      <td>7.7</td>\n",
       "      <td>5415.0</td>\n",
       "      <td>Toy Story Collection</td>\n",
       "      <td>Animation</td>\n",
       "      <td>Pixar Animation Studios</td>\n",
       "      <td>United States of America</td>\n",
       "      <td>English</td>\n",
       "    </tr>\n",
       "  </tbody>\n",
       "</table>\n",
       "</div>"
      ],
      "text/plain": [
       "     budget idMovies original_language  \\\n",
       "0  30000000      862                en   \n",
       "\n",
       "                                            overview popularity release_date  \\\n",
       "0  Led by Woody, Andy's toys live happily in his ...  21.946943   1995-10-30   \n",
       "\n",
       "       revenue  runtime    status tagline      title  vote_average  \\\n",
       "0  373554033.0     81.0  Released     NaN  Toy Story           7.7   \n",
       "\n",
       "   vote_count         nameColeccion     genres     production_companies  \\\n",
       "0      5415.0  Toy Story Collection  Animation  Pixar Animation Studios   \n",
       "\n",
       "       production_countries spoken_language  \n",
       "0  United States of America         English  "
      ]
     },
     "execution_count": 125,
     "metadata": {},
     "output_type": "execute_result"
    }
   ],
   "source": [
    "\n",
    "# Renombrar algunas columnas\n",
    "movies = movies.rename(columns={\n",
    "    'id': 'idMovies',\n",
    "    'name': 'nameColeccion',\n",
    "    'genres_name': 'genres',\n",
    "    'production_companies_name': 'production_companies',\n",
    "    'production_countries_name': 'production_countries',\n",
    "    'spoken_languages_name': 'spoken_language'\n",
    "\n",
    "})\n",
    "\n",
    "# Verificar las primeras filas del DataFrame para asegurarse de que las columnas han sido renombradas\n",
    "movies.head(1)"
   ]
  },
  {
   "cell_type": "code",
   "execution_count": 126,
   "metadata": {},
   "outputs": [
    {
     "name": "stdout",
     "output_type": "stream",
     "text": [
      "(45466, 18)\n"
     ]
    },
    {
     "data": {
      "text/html": [
       "<div>\n",
       "<style scoped>\n",
       "    .dataframe tbody tr th:only-of-type {\n",
       "        vertical-align: middle;\n",
       "    }\n",
       "\n",
       "    .dataframe tbody tr th {\n",
       "        vertical-align: top;\n",
       "    }\n",
       "\n",
       "    .dataframe thead th {\n",
       "        text-align: right;\n",
       "    }\n",
       "</style>\n",
       "<table border=\"1\" class=\"dataframe\">\n",
       "  <thead>\n",
       "    <tr style=\"text-align: right;\">\n",
       "      <th></th>\n",
       "      <th>budget</th>\n",
       "      <th>idMovies</th>\n",
       "      <th>original_language</th>\n",
       "      <th>overview</th>\n",
       "      <th>popularity</th>\n",
       "      <th>release_date</th>\n",
       "      <th>revenue</th>\n",
       "      <th>runtime</th>\n",
       "      <th>status</th>\n",
       "      <th>tagline</th>\n",
       "      <th>title</th>\n",
       "      <th>vote_average</th>\n",
       "      <th>vote_count</th>\n",
       "      <th>nameColeccion</th>\n",
       "      <th>genres</th>\n",
       "      <th>production_companies</th>\n",
       "      <th>production_countries</th>\n",
       "      <th>spoken_language</th>\n",
       "    </tr>\n",
       "  </thead>\n",
       "  <tbody>\n",
       "    <tr>\n",
       "      <th>0</th>\n",
       "      <td>30000000</td>\n",
       "      <td>862</td>\n",
       "      <td>en</td>\n",
       "      <td>Led by Woody, Andy's toys live happily in his ...</td>\n",
       "      <td>21.946943</td>\n",
       "      <td>1995-10-30</td>\n",
       "      <td>373554033.0</td>\n",
       "      <td>81.0</td>\n",
       "      <td>Released</td>\n",
       "      <td>NaN</td>\n",
       "      <td>Toy Story</td>\n",
       "      <td>7.7</td>\n",
       "      <td>5415.0</td>\n",
       "      <td>Toy Story Collection</td>\n",
       "      <td>Animation</td>\n",
       "      <td>Pixar Animation Studios</td>\n",
       "      <td>United States of America</td>\n",
       "      <td>English</td>\n",
       "    </tr>\n",
       "    <tr>\n",
       "      <th>1</th>\n",
       "      <td>65000000</td>\n",
       "      <td>8844</td>\n",
       "      <td>en</td>\n",
       "      <td>When siblings Judy and Peter discover an encha...</td>\n",
       "      <td>17.015539</td>\n",
       "      <td>1995-12-15</td>\n",
       "      <td>262797249.0</td>\n",
       "      <td>104.0</td>\n",
       "      <td>Released</td>\n",
       "      <td>Roll the dice and unleash the excitement!</td>\n",
       "      <td>Jumanji</td>\n",
       "      <td>6.9</td>\n",
       "      <td>2413.0</td>\n",
       "      <td>NaN</td>\n",
       "      <td>Comedy</td>\n",
       "      <td>TriStar Pictures</td>\n",
       "      <td>United States of America</td>\n",
       "      <td>English</td>\n",
       "    </tr>\n",
       "    <tr>\n",
       "      <th>2</th>\n",
       "      <td>0</td>\n",
       "      <td>15602</td>\n",
       "      <td>en</td>\n",
       "      <td>A family wedding reignites the ancient feud be...</td>\n",
       "      <td>11.7129</td>\n",
       "      <td>1995-12-22</td>\n",
       "      <td>0.0</td>\n",
       "      <td>101.0</td>\n",
       "      <td>Released</td>\n",
       "      <td>Still Yelling. Still Fighting. Still Ready for...</td>\n",
       "      <td>Grumpier Old Men</td>\n",
       "      <td>6.5</td>\n",
       "      <td>92.0</td>\n",
       "      <td>Grumpy Old Men Collection</td>\n",
       "      <td>Family</td>\n",
       "      <td>Teitler Film</td>\n",
       "      <td>United States of America</td>\n",
       "      <td>Français</td>\n",
       "    </tr>\n",
       "    <tr>\n",
       "      <th>3</th>\n",
       "      <td>16000000</td>\n",
       "      <td>31357</td>\n",
       "      <td>en</td>\n",
       "      <td>Cheated on, mistreated and stepped on, the wom...</td>\n",
       "      <td>3.859495</td>\n",
       "      <td>1995-12-22</td>\n",
       "      <td>81452156.0</td>\n",
       "      <td>127.0</td>\n",
       "      <td>Released</td>\n",
       "      <td>Friends are the people who let you be yourself...</td>\n",
       "      <td>Waiting to Exhale</td>\n",
       "      <td>6.1</td>\n",
       "      <td>34.0</td>\n",
       "      <td>NaN</td>\n",
       "      <td>Adventure</td>\n",
       "      <td>Interscope Communications</td>\n",
       "      <td>United States of America</td>\n",
       "      <td>English</td>\n",
       "    </tr>\n",
       "    <tr>\n",
       "      <th>4</th>\n",
       "      <td>0</td>\n",
       "      <td>11862</td>\n",
       "      <td>en</td>\n",
       "      <td>Just when George Banks has recovered from his ...</td>\n",
       "      <td>8.387519</td>\n",
       "      <td>1995-02-10</td>\n",
       "      <td>76578911.0</td>\n",
       "      <td>106.0</td>\n",
       "      <td>Released</td>\n",
       "      <td>Just When His World Is Back To Normal... He's ...</td>\n",
       "      <td>Father of the Bride Part II</td>\n",
       "      <td>5.7</td>\n",
       "      <td>173.0</td>\n",
       "      <td>Father of the Bride Collection</td>\n",
       "      <td>Fantasy</td>\n",
       "      <td>Warner Bros.</td>\n",
       "      <td>United States of America</td>\n",
       "      <td>English</td>\n",
       "    </tr>\n",
       "  </tbody>\n",
       "</table>\n",
       "</div>"
      ],
      "text/plain": [
       "     budget idMovies original_language  \\\n",
       "0  30000000      862                en   \n",
       "1  65000000     8844                en   \n",
       "2         0    15602                en   \n",
       "3  16000000    31357                en   \n",
       "4         0    11862                en   \n",
       "\n",
       "                                            overview popularity release_date  \\\n",
       "0  Led by Woody, Andy's toys live happily in his ...  21.946943   1995-10-30   \n",
       "1  When siblings Judy and Peter discover an encha...  17.015539   1995-12-15   \n",
       "2  A family wedding reignites the ancient feud be...    11.7129   1995-12-22   \n",
       "3  Cheated on, mistreated and stepped on, the wom...   3.859495   1995-12-22   \n",
       "4  Just when George Banks has recovered from his ...   8.387519   1995-02-10   \n",
       "\n",
       "       revenue  runtime    status  \\\n",
       "0  373554033.0     81.0  Released   \n",
       "1  262797249.0    104.0  Released   \n",
       "2          0.0    101.0  Released   \n",
       "3   81452156.0    127.0  Released   \n",
       "4   76578911.0    106.0  Released   \n",
       "\n",
       "                                             tagline  \\\n",
       "0                                                NaN   \n",
       "1          Roll the dice and unleash the excitement!   \n",
       "2  Still Yelling. Still Fighting. Still Ready for...   \n",
       "3  Friends are the people who let you be yourself...   \n",
       "4  Just When His World Is Back To Normal... He's ...   \n",
       "\n",
       "                         title  vote_average  vote_count  \\\n",
       "0                    Toy Story           7.7      5415.0   \n",
       "1                      Jumanji           6.9      2413.0   \n",
       "2             Grumpier Old Men           6.5        92.0   \n",
       "3            Waiting to Exhale           6.1        34.0   \n",
       "4  Father of the Bride Part II           5.7       173.0   \n",
       "\n",
       "                    nameColeccion     genres       production_companies  \\\n",
       "0            Toy Story Collection  Animation    Pixar Animation Studios   \n",
       "1                             NaN     Comedy           TriStar Pictures   \n",
       "2       Grumpy Old Men Collection     Family               Teitler Film   \n",
       "3                             NaN  Adventure  Interscope Communications   \n",
       "4  Father of the Bride Collection    Fantasy               Warner Bros.   \n",
       "\n",
       "       production_countries spoken_language  \n",
       "0  United States of America         English  \n",
       "1  United States of America         English  \n",
       "2  United States of America        Français  \n",
       "3  United States of America         English  \n",
       "4  United States of America         English  "
      ]
     },
     "execution_count": 126,
     "metadata": {},
     "output_type": "execute_result"
    }
   ],
   "source": [
    "#mostrar solo las 5 primeras filas\n",
    "print(movies.shape)\n",
    "movies.head(5)"
   ]
  },
  {
   "cell_type": "markdown",
   "metadata": {},
   "source": [
    "Transformaciones solicitadas"
   ]
  },
  {
   "cell_type": "code",
   "execution_count": 127,
   "metadata": {},
   "outputs": [
    {
     "name": "stdout",
     "output_type": "stream",
     "text": [
      "       revenue    budget\n",
      "0  373554033.0  30000000\n",
      "1  262797249.0  65000000\n",
      "2          0.0         0\n",
      "3   81452156.0  16000000\n",
      "4   76578911.0         0\n"
     ]
    }
   ],
   "source": [
    "# Rellenar los valores nulos en las columnas 'revenue' y 'budget' con 0\n",
    "\n",
    "movies['revenue'] = movies['revenue'].fillna(0)\n",
    "movies['budget'] = movies['budget'].fillna(0)\n",
    "\n",
    "# Ver los primeros registros para verificar\n",
    "print(movies[['revenue', 'budget']].head())\n"
   ]
  },
  {
   "cell_type": "code",
   "execution_count": 128,
   "metadata": {},
   "outputs": [
    {
     "name": "stdout",
     "output_type": "stream",
     "text": [
      "  release_date\n",
      "0   1995-10-30\n",
      "1   1995-12-15\n",
      "2   1995-12-22\n",
      "3   1995-12-22\n",
      "4   1995-02-10\n"
     ]
    }
   ],
   "source": [
    "# Eliminar las filas donde el campo 'release date' es nulo\n",
    "movies = movies.dropna(subset=['release_date'])\n",
    "print(movies[['release_date']].head())"
   ]
  },
  {
   "cell_type": "code",
   "execution_count": 130,
   "metadata": {},
   "outputs": [
    {
     "name": "stdout",
     "output_type": "stream",
     "text": [
      "  release_date release_year\n",
      "0   1995-10-30         1995\n",
      "1   1995-12-15         1995\n",
      "2   1995-12-22         1995\n",
      "3   1995-12-22         1995\n",
      "4   1995-02-10         1995\n"
     ]
    }
   ],
   "source": [
    "# Convertir la columna 'release_date' al formato de fecha AAAA-mm-dd\n",
    "movies['release_date'] = pd.to_datetime(movies['release_date'], errors='coerce', format='%Y-%m-%d')\n",
    "\n",
    "# Crear la columna 'release_year' extrayendo el año de 'release_date' y convirtiendo a formato de fecha con frecuencia anual\n",
    "movies['release_year'] = movies['release_date'].dt.to_period('Y')\n",
    "\n",
    "# Opcional: Eliminar filas con 'release_year' nulo\n",
    "movies = movies.dropna(subset=['release_year'])\n",
    "\n",
    "print(movies[['release_date', 'release_year']].head())\n"
   ]
  },
  {
   "cell_type": "code",
   "execution_count": 131,
   "metadata": {},
   "outputs": [
    {
     "name": "stdout",
     "output_type": "stream",
     "text": [
      "       revenue    budget     return\n",
      "0  373554033.0  30000000  12.451801\n",
      "1  262797249.0  65000000   4.043035\n",
      "2          0.0         0   0.000000\n",
      "3   81452156.0  16000000   5.090760\n",
      "4   76578911.0         0   0.000000\n"
     ]
    }
   ],
   "source": [
    "#Crear la columna con el retorno de inversión, llamada return con los campos revenue y budget, \n",
    "# dividiendo estas dos últimas revenue / budget, cuando no hay datos disponibles para calcularlo, deberá tomar el valor 0\n",
    "\n",
    "# Asegurarse de que las columnas 'revenue' y 'budget' sean numéricas\n",
    "movies['revenue'] = pd.to_numeric(movies['revenue'], errors='coerce')\n",
    "movies['budget'] = pd.to_numeric(movies['budget'], errors='coerce')\n",
    "\n",
    "# Crear la columna 'return' calculando revenue / budget\n",
    "# Si el budget es 0 o NaN, el retorno también debe ser 0\n",
    "movies['return'] = movies.apply(lambda row: row['revenue'] / row['budget'] if row['budget'] > 0 else 0, axis=1)\n",
    "\n",
    "# Verificar los primeros registros para asegurarse de que el cálculo es correcto\n",
    "print(movies[['revenue', 'budget', 'return']].head())\n"
   ]
  },
  {
   "cell_type": "markdown",
   "metadata": {},
   "source": [
    "Realizar otras modificaciones necesarias"
   ]
  },
  {
   "cell_type": "code",
   "execution_count": 132,
   "metadata": {},
   "outputs": [
    {
     "name": "stdout",
     "output_type": "stream",
     "text": [
      "budget                           int64\n",
      "idMovies                        object\n",
      "original_language               object\n",
      "overview                        object\n",
      "popularity                      object\n",
      "release_date            datetime64[ns]\n",
      "revenue                        float64\n",
      "runtime                        float64\n",
      "status                          object\n",
      "tagline                         object\n",
      "title                           object\n",
      "vote_average                   float64\n",
      "vote_count                     float64\n",
      "nameColeccion                   object\n",
      "genres                          object\n",
      "production_companies            object\n",
      "production_countries            object\n",
      "spoken_language                 object\n",
      "release_year             period[Y-DEC]\n",
      "return                         float64\n",
      "dtype: object\n"
     ]
    }
   ],
   "source": [
    "#Verificacion de los tipos de datos\n",
    "print(movies.dtypes)"
   ]
  },
  {
   "cell_type": "code",
   "execution_count": 133,
   "metadata": {},
   "outputs": [],
   "source": [
    "# Modificación de idMovies\n",
    "# Convertir la columna 'id' a entero\n",
    "movies['idMovies'] = movies['idMovies'].astype(int)\n"
   ]
  },
  {
   "cell_type": "code",
   "execution_count": 134,
   "metadata": {},
   "outputs": [
    {
     "name": "stdout",
     "output_type": "stream",
     "text": [
      "budget                           int64\n",
      "idMovies                         int32\n",
      "original_language               object\n",
      "overview                        object\n",
      "popularity                     float64\n",
      "release_date            datetime64[ns]\n",
      "revenue                        float64\n",
      "runtime                        float64\n",
      "status                          object\n",
      "tagline                         object\n",
      "title                           object\n",
      "vote_average                   float64\n",
      "vote_count                     float64\n",
      "nameColeccion                   object\n",
      "genres                          object\n",
      "production_companies            object\n",
      "production_countries            object\n",
      "spoken_language                 object\n",
      "release_year             period[Y-DEC]\n",
      "return                         float64\n",
      "dtype: object\n"
     ]
    }
   ],
   "source": [
    "# Convertir 'popularity' a float64\n",
    "movies['popularity'] = movies['popularity'].astype(float)\n",
    "\n",
    "# Verificar los tipos de datos después de las conversiones\n",
    "print(movies.dtypes)"
   ]
  },
  {
   "cell_type": "markdown",
   "metadata": {},
   "source": [
    "Verificacion de Campos Nulos"
   ]
  },
  {
   "cell_type": "code",
   "execution_count": 135,
   "metadata": {},
   "outputs": [
    {
     "data": {
      "text/plain": [
       "budget                      0\n",
       "idMovies                    0\n",
       "original_language          11\n",
       "overview                  941\n",
       "popularity                  0\n",
       "release_date                0\n",
       "revenue                     0\n",
       "runtime                   246\n",
       "status                     80\n",
       "tagline                 24978\n",
       "title                       0\n",
       "vote_average                0\n",
       "vote_count                  0\n",
       "nameColeccion           40888\n",
       "genres                      0\n",
       "production_companies        1\n",
       "production_countries        3\n",
       "spoken_language             0\n",
       "release_year                0\n",
       "return                      0\n",
       "dtype: int64"
      ]
     },
     "execution_count": 135,
     "metadata": {},
     "output_type": "execute_result"
    }
   ],
   "source": [
    "#valores nulos\n",
    "movies.isnull().sum()"
   ]
  },
  {
   "cell_type": "code",
   "execution_count": 138,
   "metadata": {},
   "outputs": [
    {
     "name": "stdout",
     "output_type": "stream",
     "text": [
      "['Toy Story Collection' nan 'Grumpy Old Men Collection' ...\n",
      " 'Ducobu Collection' 'Mister Blot Collection' 'Red Lotus Collection']\n"
     ]
    }
   ],
   "source": [
    "print(movies['nameColeccion'].unique())"
   ]
  },
  {
   "cell_type": "markdown",
   "metadata": {},
   "source": [
    "Resumen: Eliminación de la Columna coleccion_de_peliculas ya que posee como el 90% de valores nulos que pueden afectar en mi modelo"
   ]
  },
  {
   "cell_type": "code",
   "execution_count": 140,
   "metadata": {},
   "outputs": [],
   "source": [
    "# Eliminar las columnas que no serán utilizadas\n",
    "columns_to_drop = 'nameColeccion'\n",
    "movies = movies.drop(columns=columns_to_drop)"
   ]
  },
  {
   "cell_type": "code",
   "execution_count": 141,
   "metadata": {},
   "outputs": [
    {
     "data": {
      "text/plain": [
       "budget                      0\n",
       "idMovies                    0\n",
       "original_language          11\n",
       "overview                  941\n",
       "popularity                  0\n",
       "release_date                0\n",
       "revenue                     0\n",
       "runtime                   246\n",
       "status                     80\n",
       "tagline                 24978\n",
       "title                       0\n",
       "vote_average                0\n",
       "vote_count                  0\n",
       "genres                      0\n",
       "production_companies        1\n",
       "production_countries        3\n",
       "spoken_language             0\n",
       "release_year                0\n",
       "return                      0\n",
       "dtype: int64"
      ]
     },
     "execution_count": 141,
     "metadata": {},
     "output_type": "execute_result"
    }
   ],
   "source": [
    "#valores nulos\n",
    "movies.isnull().sum()"
   ]
  },
  {
   "cell_type": "code",
   "execution_count": 142,
   "metadata": {},
   "outputs": [],
   "source": [
    "# rellenar columnas para no eliminar columnas quizas necesarias \n",
    "fill_values = {\n",
    "    'original_language': 'unknown',\n",
    "    'overview': 'no summary',\n",
    "    'tagline': 'no summary',\n",
    "    'status': 'unknown',\n",
    "    'compañiaProduccion': 'unknown',\n",
    "    'paisProduccion': 'unknown',\n",
    "    'runtime': 0\n",
    "    \n",
    "}\n",
    "\n",
    "# Rellenar los valores nulos en las columnas especificadas usando un diccionario\n",
    "movies.fillna(value=fill_values, inplace=True)"
   ]
  },
  {
   "cell_type": "code",
   "execution_count": 1,
   "metadata": {},
   "outputs": [
    {
     "ename": "NameError",
     "evalue": "name 'movies' is not defined",
     "output_type": "error",
     "traceback": [
      "\u001b[1;31m---------------------------------------------------------------------------\u001b[0m",
      "\u001b[1;31mNameError\u001b[0m                                 Traceback (most recent call last)",
      "Cell \u001b[1;32mIn[1], line 1\u001b[0m\n\u001b[1;32m----> 1\u001b[0m \u001b[43mmovies\u001b[49m\u001b[38;5;241m.\u001b[39mshape()\n",
      "\u001b[1;31mNameError\u001b[0m: name 'movies' is not defined"
     ]
    }
   ],
   "source": [
    "#verificar tamaño\n",
    "movies.shape()\n"
   ]
  },
  {
   "cell_type": "code",
   "execution_count": 144,
   "metadata": {},
   "outputs": [
    {
     "data": {
      "text/plain": [
       "budget                  0\n",
       "idMovies                0\n",
       "original_language       0\n",
       "overview                0\n",
       "popularity              0\n",
       "release_date            0\n",
       "revenue                 0\n",
       "runtime                 0\n",
       "status                  0\n",
       "tagline                 0\n",
       "title                   0\n",
       "vote_average            0\n",
       "vote_count              0\n",
       "genres                  0\n",
       "production_companies    1\n",
       "production_countries    3\n",
       "spoken_language         0\n",
       "release_year            0\n",
       "return                  0\n",
       "dtype: int64"
      ]
     },
     "execution_count": 144,
     "metadata": {},
     "output_type": "execute_result"
    }
   ],
   "source": [
    "#valores nulos\n",
    "movies.isnull().sum()"
   ]
  },
  {
   "cell_type": "code",
   "execution_count": 145,
   "metadata": {},
   "outputs": [],
   "source": [
    "\n",
    "# Exportar los cambios realizados \n",
    "movies.to_csv('Dataset/movies_final.csv', index=False)\n"
   ]
  }
 ],
 "metadata": {
  "kernelspec": {
   "display_name": "Python 3",
   "language": "python",
   "name": "python3"
  },
  "language_info": {
   "codemirror_mode": {
    "name": "ipython",
    "version": 3
   },
   "file_extension": ".py",
   "mimetype": "text/x-python",
   "name": "python",
   "nbconvert_exporter": "python",
   "pygments_lexer": "ipython3",
   "version": "3.12.3"
  }
 },
 "nbformat": 4,
 "nbformat_minor": 2
}
