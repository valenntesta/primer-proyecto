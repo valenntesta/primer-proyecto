{
 "cells": [
  {
   "cell_type": "code",
   "execution_count": 238,
   "metadata": {},
   "outputs": [],
   "source": [
    "# Importar las bibliotecas necesarias\n",
    "import numpy as np\n",
    "import pandas as pd"
   ]
  },
  {
   "cell_type": "code",
   "execution_count": 239,
   "metadata": {},
   "outputs": [],
   "source": [
    "#Extraer de ambos datasets modificados\n",
    "\n",
    "movies= pd.read_csv('Dataset/movies_final.csv', encoding='utf-8')\n",
    "\n",
    "credits_cast= pd.read_csv('Dataset/cast_credits.csv')\n",
    "credits_crew= pd.read_csv('Dataset/crew_credits.csv')"
   ]
  },
  {
   "cell_type": "code",
   "execution_count": 240,
   "metadata": {},
   "outputs": [
    {
     "name": "stdout",
     "output_type": "stream",
     "text": [
      "(562474, 9)\n"
     ]
    },
    {
     "data": {
      "text/html": [
       "<div>\n",
       "<style scoped>\n",
       "    .dataframe tbody tr th:only-of-type {\n",
       "        vertical-align: middle;\n",
       "    }\n",
       "\n",
       "    .dataframe tbody tr th {\n",
       "        vertical-align: top;\n",
       "    }\n",
       "\n",
       "    .dataframe thead th {\n",
       "        text-align: right;\n",
       "    }\n",
       "</style>\n",
       "<table border=\"1\" class=\"dataframe\">\n",
       "  <thead>\n",
       "    <tr style=\"text-align: right;\">\n",
       "      <th></th>\n",
       "      <th>cast_cast_id</th>\n",
       "      <th>cast_character</th>\n",
       "      <th>cast_credit_id</th>\n",
       "      <th>cast_gender</th>\n",
       "      <th>cast_id</th>\n",
       "      <th>cast_name</th>\n",
       "      <th>cast_order</th>\n",
       "      <th>cast_profile_path</th>\n",
       "      <th>id</th>\n",
       "    </tr>\n",
       "  </thead>\n",
       "  <tbody>\n",
       "    <tr>\n",
       "      <th>0</th>\n",
       "      <td>14</td>\n",
       "      <td>Woody (voice)</td>\n",
       "      <td>52fe4284c3a36847f8024f95</td>\n",
       "      <td>2</td>\n",
       "      <td>31</td>\n",
       "      <td>Tom Hanks</td>\n",
       "      <td>0</td>\n",
       "      <td>/pQFoyx7rp09CJTAb932F2g8Nlho.jpg</td>\n",
       "      <td>862.0</td>\n",
       "    </tr>\n",
       "  </tbody>\n",
       "</table>\n",
       "</div>"
      ],
      "text/plain": [
       "   cast_cast_id cast_character            cast_credit_id  cast_gender  \\\n",
       "0            14  Woody (voice)  52fe4284c3a36847f8024f95            2   \n",
       "\n",
       "   cast_id  cast_name  cast_order                 cast_profile_path     id  \n",
       "0       31  Tom Hanks           0  /pQFoyx7rp09CJTAb932F2g8Nlho.jpg  862.0  "
      ]
     },
     "execution_count": 240,
     "metadata": {},
     "output_type": "execute_result"
    }
   ],
   "source": [
    "print(credits_cast.shape)\n",
    "credits_cast.head(1)"
   ]
  },
  {
   "cell_type": "code",
   "execution_count": 241,
   "metadata": {},
   "outputs": [
    {
     "name": "stdout",
     "output_type": "stream",
     "text": [
      "(464314, 8)\n"
     ]
    },
    {
     "data": {
      "text/html": [
       "<div>\n",
       "<style scoped>\n",
       "    .dataframe tbody tr th:only-of-type {\n",
       "        vertical-align: middle;\n",
       "    }\n",
       "\n",
       "    .dataframe tbody tr th {\n",
       "        vertical-align: top;\n",
       "    }\n",
       "\n",
       "    .dataframe thead th {\n",
       "        text-align: right;\n",
       "    }\n",
       "</style>\n",
       "<table border=\"1\" class=\"dataframe\">\n",
       "  <thead>\n",
       "    <tr style=\"text-align: right;\">\n",
       "      <th></th>\n",
       "      <th>crew_credit_id</th>\n",
       "      <th>crew_department</th>\n",
       "      <th>crew_gender</th>\n",
       "      <th>crew_id</th>\n",
       "      <th>crew_job</th>\n",
       "      <th>crew_name</th>\n",
       "      <th>crew_profile_path</th>\n",
       "      <th>id</th>\n",
       "    </tr>\n",
       "  </thead>\n",
       "  <tbody>\n",
       "    <tr>\n",
       "      <th>0</th>\n",
       "      <td>52fe4284c3a36847f8024f49</td>\n",
       "      <td>Directing</td>\n",
       "      <td>2</td>\n",
       "      <td>7879</td>\n",
       "      <td>Director</td>\n",
       "      <td>John Lasseter</td>\n",
       "      <td>/7EdqiNbr4FRjIhKHyPPdFfEEEFG.jpg</td>\n",
       "      <td>862.0</td>\n",
       "    </tr>\n",
       "  </tbody>\n",
       "</table>\n",
       "</div>"
      ],
      "text/plain": [
       "             crew_credit_id crew_department  crew_gender  crew_id  crew_job  \\\n",
       "0  52fe4284c3a36847f8024f49       Directing            2     7879  Director   \n",
       "\n",
       "       crew_name                 crew_profile_path     id  \n",
       "0  John Lasseter  /7EdqiNbr4FRjIhKHyPPdFfEEEFG.jpg  862.0  "
      ]
     },
     "execution_count": 241,
     "metadata": {},
     "output_type": "execute_result"
    }
   ],
   "source": [
    "print(credits_crew.shape)\n",
    "credits_crew.head(1)"
   ]
  },
  {
   "cell_type": "markdown",
   "metadata": {},
   "source": [
    "Se observan los dos datasets donde procedere a eliminar las colunas de los id menos el id final que me unira con el dataset de movies"
   ]
  },
  {
   "cell_type": "code",
   "execution_count": 242,
   "metadata": {},
   "outputs": [],
   "source": [
    "# Eliminar las columnas que no serán utilizadas en cast\n",
    "columns_to_drop = ['cast_cast_id', 'cast_credit_id','cast_gender', 'cast_id','cast_profile_path']\n",
    "cast_df = credits_cast.drop(columns=columns_to_drop)"
   ]
  },
  {
   "cell_type": "code",
   "execution_count": 243,
   "metadata": {},
   "outputs": [],
   "source": [
    "# Eliminar las columnas que no serán utilizadas en crew\n",
    "columns_to_drop = ['crew_credit_id','crew_gender', 'crew_id', 'crew_profile_path']\n",
    "crew_df = credits_crew.drop(columns=columns_to_drop)"
   ]
  },
  {
   "cell_type": "code",
   "execution_count": null,
   "metadata": {},
   "outputs": [],
   "source": [
    "cast_df.head()"
   ]
  },
  {
   "cell_type": "code",
   "execution_count": null,
   "metadata": {},
   "outputs": [],
   "source": [
    "crew_df.head()"
   ]
  },
  {
   "cell_type": "code",
   "execution_count": 244,
   "metadata": {},
   "outputs": [],
   "source": [
    "#Renombrar los id\n",
    "cast_df.rename(columns={'id': 'idMovies'}, inplace=True)\n",
    "crew_df.rename(columns={'id': 'idMovies'}, inplace=True)\n",
    "\n",
    "#Renombrar en nombre de actor\n",
    "cast_df.rename(columns={'cast_name': 'nameActor'}, inplace=True)"
   ]
  },
  {
   "cell_type": "markdown",
   "metadata": {},
   "source": [
    "Tabla cast"
   ]
  },
  {
   "cell_type": "code",
   "execution_count": 245,
   "metadata": {},
   "outputs": [
    {
     "name": "stdout",
     "output_type": "stream",
     "text": [
      "cast_character     25783\n",
      "nameActor              0\n",
      "cast_order             0\n",
      "idMovies          516998\n",
      "dtype: int64\n"
     ]
    }
   ],
   "source": [
    "# Verificar valores nulos\n",
    "print(cast_df.isnull().sum())"
   ]
  },
  {
   "cell_type": "code",
   "execution_count": 246,
   "metadata": {},
   "outputs": [
    {
     "name": "stderr",
     "output_type": "stream",
     "text": [
      "C:\\Users\\evely\\AppData\\Local\\Temp\\ipykernel_15364\\3264544608.py:5: FutureWarning: A value is trying to be set on a copy of a DataFrame or Series through chained assignment using an inplace method.\n",
      "The behavior will change in pandas 3.0. This inplace method will never work because the intermediate object on which we are setting values always behaves as a copy.\n",
      "\n",
      "For example, when doing 'df[col].method(value, inplace=True)', try using 'df.method({col: value}, inplace=True)' or df[col] = df[col].method(value) instead, to perform the operation inplace on the original object.\n",
      "\n",
      "\n",
      "  cast_df['cast_character'].fillna(value='cast_character', inplace=True)\n"
     ]
    }
   ],
   "source": [
    "#  Tratar valores nulos (eliminar)\n",
    "cast_df= cast_df.dropna(subset=['idMovies'])  \n",
    "\n",
    "# imputar valores nulos en otras columnas si es necesario\n",
    "cast_df['cast_character'].fillna(value='cast_character', inplace=True)"
   ]
  },
  {
   "cell_type": "code",
   "execution_count": 247,
   "metadata": {},
   "outputs": [
    {
     "name": "stdout",
     "output_type": "stream",
     "text": [
      "cast_character    0\n",
      "nameActor         0\n",
      "cast_order        0\n",
      "idMovies          0\n",
      "dtype: int64\n"
     ]
    }
   ],
   "source": [
    "# Verificar de nuevo \n",
    "print(cast_df.isnull().sum())"
   ]
  },
  {
   "cell_type": "markdown",
   "metadata": {},
   "source": [
    "AHora se verifican si existen duplicados"
   ]
  },
  {
   "cell_type": "code",
   "execution_count": 248,
   "metadata": {},
   "outputs": [
    {
     "name": "stdout",
     "output_type": "stream",
     "text": [
      "Duplicados basados en la columna 'idMovies' de la tabla cast: 87\n",
      "Duplicados en todas las columnas: 0\n"
     ]
    }
   ],
   "source": [
    "\n",
    "# Verificar duplicados basados en la columna 'idMovies' de cast\n",
    "duplicates_cast_by_id = cast_df[cast_df.duplicated(subset=['idMovies'], keep=False)]\n",
    "\n",
    "# Verificar duplicados en todas las columnas\n",
    "duplicates_cast_all = cast_df[cast_df.duplicated(keep=False)]\n",
    "\n",
    "# Mostrar duplicados\n",
    "print(\"Duplicados basados en la columna 'idMovies' de la tabla cast:\", len(duplicates_cast_by_id))\n",
    "print(\"Duplicados en todas las columnas:\", len(duplicates_cast_all))\n"
   ]
  },
  {
   "cell_type": "markdown",
   "metadata": {},
   "source": [
    "Se procede a eliminar todos los duplicados por el id de movies en la tabla cast"
   ]
  },
  {
   "cell_type": "code",
   "execution_count": 249,
   "metadata": {},
   "outputs": [
    {
     "name": "stdout",
     "output_type": "stream",
     "text": [
      "Duplicados basados en 'idMovies' después de la eliminación: 0\n"
     ]
    }
   ],
   "source": [
    "\n",
    "# Eliminar duplicados basados en 'idMovies', manteniendo solo la primera ocurrencia\n",
    "cast_df = cast_df.drop_duplicates(subset=['idMovies'], keep='first')\n",
    "\n",
    "# Verificar duplicados después de la eliminación\n",
    "duplicates_after_cleaning = cast_df[cast_df.duplicated(subset=['idMovies'], keep=False)]\n",
    "print(\"Duplicados basados en 'idMovies' después de la eliminación:\", len(duplicates_after_cleaning))"
   ]
  },
  {
   "cell_type": "markdown",
   "metadata": {},
   "source": [
    "Tabla Crew"
   ]
  },
  {
   "cell_type": "code",
   "execution_count": 250,
   "metadata": {},
   "outputs": [
    {
     "name": "stdout",
     "output_type": "stream",
     "text": [
      "crew_department         0\n",
      "crew_job                0\n",
      "crew_name               0\n",
      "idMovies           418838\n",
      "dtype: int64\n"
     ]
    }
   ],
   "source": [
    "# Verificar valores nulos\n",
    "print(crew_df.isnull().sum())"
   ]
  },
  {
   "cell_type": "code",
   "execution_count": 251,
   "metadata": {},
   "outputs": [],
   "source": [
    "#  Tratar valores nulos (eliminar) de id\n",
    "crew_df= crew_df.dropna(subset=['idMovies'])  \n"
   ]
  },
  {
   "cell_type": "markdown",
   "metadata": {},
   "source": [
    "Se eliminarion todos los nulos del campo id de la tabla crew"
   ]
  },
  {
   "cell_type": "code",
   "execution_count": 252,
   "metadata": {},
   "outputs": [
    {
     "name": "stdout",
     "output_type": "stream",
     "text": [
      "crew_department    0\n",
      "crew_job           0\n",
      "crew_name          0\n",
      "idMovies           0\n",
      "dtype: int64\n"
     ]
    }
   ],
   "source": [
    "# Verificar de nuevo \n",
    "print(crew_df.isnull().sum())"
   ]
  },
  {
   "cell_type": "markdown",
   "metadata": {},
   "source": [
    "AHora se verifican si existen duplicados"
   ]
  },
  {
   "cell_type": "code",
   "execution_count": 253,
   "metadata": {},
   "outputs": [
    {
     "name": "stdout",
     "output_type": "stream",
     "text": [
      "Duplicados basados en la columna 'idMovies' de la tabla cast: 87\n",
      "Duplicados en todas las columnas: 0\n"
     ]
    }
   ],
   "source": [
    "\n",
    "# Verificar duplicados basados en la columna 'idMovies' de cast\n",
    "duplicates_crew_by_id = crew_df[crew_df.duplicated(subset=['idMovies'], keep=False)]\n",
    "\n",
    "# Verificar duplicados en todas las columnas\n",
    "duplicates_crew_all = crew_df[crew_df.duplicated(keep=False)]\n",
    "\n",
    "# Mostrar duplicados\n",
    "print(\"Duplicados basados en la columna 'idMovies' de la tabla cast:\", len(duplicates_crew_by_id))\n",
    "print(\"Duplicados en todas las columnas:\", len(duplicates_crew_all))"
   ]
  },
  {
   "cell_type": "markdown",
   "metadata": {},
   "source": [
    "No existen duplicados en la tabla crew"
   ]
  },
  {
   "cell_type": "markdown",
   "metadata": {},
   "source": [
    "Se procede a unir ambas tablas con la de movies"
   ]
  },
  {
   "cell_type": "code",
   "execution_count": 254,
   "metadata": {},
   "outputs": [
    {
     "name": "stdout",
     "output_type": "stream",
     "text": [
      "Index(['crew_department', 'crew_job', 'crew_name', 'idMovies'], dtype='object')\n"
     ]
    }
   ],
   "source": [
    "print(crew_df.columns)"
   ]
  },
  {
   "cell_type": "code",
   "execution_count": 255,
   "metadata": {},
   "outputs": [
    {
     "name": "stdout",
     "output_type": "stream",
     "text": [
      "                 character      nameActor  cast_order  idMovies  \\\n",
      "0            Woody (voice)      Tom Hanks           0     862.0   \n",
      "1   Buzz Lightyear (voice)      Tim Allen           1    8844.0   \n",
      "2  Mr. Potato Head (voice)    Don Rickles           2   15602.0   \n",
      "3       Slinky Dog (voice)     Jim Varney           3   31357.0   \n",
      "4              Rex (voice)  Wallace Shawn           4   11862.0   \n",
      "\n",
      "  crew_department    crew_job    reparto_name  \n",
      "0       Directing    Director   John Lasseter  \n",
      "1         Writing  Screenplay     Joss Whedon  \n",
      "2         Writing  Screenplay  Andrew Stanton  \n",
      "3         Writing  Screenplay      Joel Cohen  \n",
      "4         Writing  Screenplay    Alec Sokolow  \n"
     ]
    }
   ],
   "source": [
    "# Selecciona las columnas relevantes de cada DataFrame\n",
    "cast_selected = cast_df[['cast_character', 'nameActor', 'cast_order', 'idMovies']]\n",
    "crew_selected = crew_df[['crew_department', 'crew_job', 'crew_name', 'idMovies']]\n",
    "\n",
    "# Realiza el merge\n",
    "merged_df = pd.merge(cast_selected, crew_selected, on='idMovies', how='inner')\n",
    "\n",
    "# Renombra columnas si es necesario\n",
    "merged_df.rename(columns={\n",
    "    'cast_character': 'character',  \n",
    "    'crew_name': 'reparto_name'\n",
    "}, inplace=True)\n",
    "\n",
    "# Ver el resultado\n",
    "print(merged_df.head())\n"
   ]
  },
  {
   "cell_type": "code",
   "execution_count": 256,
   "metadata": {},
   "outputs": [
    {
     "data": {
      "text/html": [
       "<div>\n",
       "<style scoped>\n",
       "    .dataframe tbody tr th:only-of-type {\n",
       "        vertical-align: middle;\n",
       "    }\n",
       "\n",
       "    .dataframe tbody tr th {\n",
       "        vertical-align: top;\n",
       "    }\n",
       "\n",
       "    .dataframe thead th {\n",
       "        text-align: right;\n",
       "    }\n",
       "</style>\n",
       "<table border=\"1\" class=\"dataframe\">\n",
       "  <thead>\n",
       "    <tr style=\"text-align: right;\">\n",
       "      <th></th>\n",
       "      <th>character</th>\n",
       "      <th>nameActor</th>\n",
       "      <th>cast_order</th>\n",
       "      <th>idMovies</th>\n",
       "      <th>crew_department</th>\n",
       "      <th>crew_job</th>\n",
       "      <th>reparto_name</th>\n",
       "    </tr>\n",
       "  </thead>\n",
       "  <tbody>\n",
       "    <tr>\n",
       "      <th>0</th>\n",
       "      <td>Woody (voice)</td>\n",
       "      <td>Tom Hanks</td>\n",
       "      <td>0</td>\n",
       "      <td>862.0</td>\n",
       "      <td>Directing</td>\n",
       "      <td>Director</td>\n",
       "      <td>John Lasseter</td>\n",
       "    </tr>\n",
       "  </tbody>\n",
       "</table>\n",
       "</div>"
      ],
      "text/plain": [
       "       character  nameActor  cast_order  idMovies crew_department  crew_job  \\\n",
       "0  Woody (voice)  Tom Hanks           0     862.0       Directing  Director   \n",
       "\n",
       "    reparto_name  \n",
       "0  John Lasseter  "
      ]
     },
     "execution_count": 256,
     "metadata": {},
     "output_type": "execute_result"
    }
   ],
   "source": [
    "merged_df.head(1)"
   ]
  },
  {
   "cell_type": "code",
   "execution_count": 257,
   "metadata": {},
   "outputs": [],
   "source": [
    "# Unir el resultado anterior con basándose en 'idMovies'\n",
    "merged_df = pd.merge(merged_df, movies, on='idMovies', how='inner')"
   ]
  },
  {
   "cell_type": "code",
   "execution_count": 258,
   "metadata": {},
   "outputs": [
    {
     "name": "stdout",
     "output_type": "stream",
     "text": [
      "<class 'pandas.core.frame.DataFrame'>\n",
      "RangeIndex: 45451 entries, 0 to 45450\n",
      "Data columns (total 25 columns):\n",
      " #   Column                Non-Null Count  Dtype  \n",
      "---  ------                --------------  -----  \n",
      " 0   character             45451 non-null  object \n",
      " 1   nameActor             45451 non-null  object \n",
      " 2   cast_order            45451 non-null  int64  \n",
      " 3   idMovies              45451 non-null  float64\n",
      " 4   crew_department       45451 non-null  object \n",
      " 5   crew_job              45451 non-null  object \n",
      " 6   reparto_name          45451 non-null  object \n",
      " 7   budget                45451 non-null  int64  \n",
      " 8   original_language     45451 non-null  object \n",
      " 9   overview              45451 non-null  object \n",
      " 10  popularity            45451 non-null  float64\n",
      " 11  release_date          45451 non-null  object \n",
      " 12  revenue               45451 non-null  float64\n",
      " 13  runtime               45451 non-null  float64\n",
      " 14  status                45451 non-null  object \n",
      " 15  tagline               45451 non-null  object \n",
      " 16  title                 45451 non-null  object \n",
      " 17  vote_average          45451 non-null  float64\n",
      " 18  vote_count            45451 non-null  float64\n",
      " 19  genres                45451 non-null  object \n",
      " 20  production_companies  45450 non-null  object \n",
      " 21  production_countries  45448 non-null  object \n",
      " 22  spoken_language       45038 non-null  object \n",
      " 23  release_year          45451 non-null  int64  \n",
      " 24  return                45451 non-null  float64\n",
      "dtypes: float64(7), int64(3), object(15)\n",
      "memory usage: 8.7+ MB\n"
     ]
    }
   ],
   "source": [
    "merged_df.info()"
   ]
  },
  {
   "cell_type": "code",
   "execution_count": 259,
   "metadata": {},
   "outputs": [
    {
     "name": "stdout",
     "output_type": "stream",
     "text": [
      "production_companies      1\n",
      "production_countries      3\n",
      "spoken_language         413\n",
      "dtype: int64\n"
     ]
    }
   ],
   "source": [
    "# Verificar la cantidad de valores nulos por columna\n",
    "null_counts = merged_df.isnull().sum()\n",
    "\n",
    "# Mostrar las columnas con valores nulos y la cantidad de nulos en cada una\n",
    "print(null_counts[null_counts > 0])\n"
   ]
  },
  {
   "cell_type": "code",
   "execution_count": 260,
   "metadata": {},
   "outputs": [],
   "source": [
    "# rellenar esa columnas \n",
    "fill_values = {\n",
    "    'production_companies': 'unknown', \n",
    "    'production_countries': 'unknown',\n",
    "    'spoken_language': 'unknown', \n",
    "}\n",
    "\n",
    "# Rellenar los valores nulos en las columnas especificadas usando un diccionario\n",
    "merged_df.fillna(value=fill_values, inplace=True)"
   ]
  },
  {
   "cell_type": "code",
   "execution_count": 261,
   "metadata": {},
   "outputs": [
    {
     "data": {
      "text/plain": [
       "character               0\n",
       "nameActor               0\n",
       "cast_order              0\n",
       "idMovies                0\n",
       "crew_department         0\n",
       "crew_job                0\n",
       "reparto_name            0\n",
       "budget                  0\n",
       "original_language       0\n",
       "overview                0\n",
       "popularity              0\n",
       "release_date            0\n",
       "revenue                 0\n",
       "runtime                 0\n",
       "status                  0\n",
       "tagline                 0\n",
       "title                   0\n",
       "vote_average            0\n",
       "vote_count              0\n",
       "genres                  0\n",
       "production_companies    0\n",
       "production_countries    0\n",
       "spoken_language         0\n",
       "release_year            0\n",
       "return                  0\n",
       "dtype: int64"
      ]
     },
     "execution_count": 261,
     "metadata": {},
     "output_type": "execute_result"
    }
   ],
   "source": [
    "# Verificar la cantidad de valores nulos por columna\n",
    "merged_df.isnull().sum()"
   ]
  },
  {
   "cell_type": "code",
   "execution_count": 263,
   "metadata": {},
   "outputs": [
    {
     "data": {
      "text/plain": [
       "(45451, 25)"
      ]
     },
     "execution_count": 263,
     "metadata": {},
     "output_type": "execute_result"
    }
   ],
   "source": [
    "#Verificar tamaño total de dataset\n",
    "merged_df.shape"
   ]
  },
  {
   "cell_type": "code",
   "execution_count": 264,
   "metadata": {},
   "outputs": [],
   "source": [
    "# Guardar el DataFrame unido en un archivo Parquet\n",
    "merged_df.to_parquet('Dataset/Credits_movies_final.parquet', index=False)\n"
   ]
  }
 ],
 "metadata": {
  "kernelspec": {
   "display_name": "Python 3",
   "language": "python",
   "name": "python3"
  },
  "language_info": {
   "codemirror_mode": {
    "name": "ipython",
    "version": 3
   },
   "file_extension": ".py",
   "mimetype": "text/x-python",
   "name": "python",
   "nbconvert_exporter": "python",
   "pygments_lexer": "ipython3",
   "version": "3.12.3"
  }
 },
 "nbformat": 4,
 "nbformat_minor": 2
}
